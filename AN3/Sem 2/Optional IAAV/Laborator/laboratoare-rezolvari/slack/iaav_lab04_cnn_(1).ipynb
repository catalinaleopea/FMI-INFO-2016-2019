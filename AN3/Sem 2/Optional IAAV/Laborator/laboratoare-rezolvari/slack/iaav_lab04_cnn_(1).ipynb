{
  "nbformat": 4,
  "nbformat_minor": 0,
  "metadata": {
    "colab": {
      "name": "iaav-lab04-cnn (1).ipynb",
      "version": "0.3.2",
      "provenance": [],
      "collapsed_sections": [
        "-h3CLBbKEeB8",
        "fYPEgRvBEeC4",
        "77v8TY2_EeC_",
        "vAreyJQDEeDF",
        "S43Bz882EeDI",
        "ug_u0HsJEeDT",
        "yAYAVPjwEeDb",
        "FM0vrE4TEeDd",
        "BfiOBCYnEeDf",
        "Rd7Z_wgdEeD9",
        "xmVXNvbcEeD_",
        "bBYq9p4XEeEE",
        "TUqAs1a-EeER",
        "myH-2tVDEeEc",
        "WNTXifVrEeEs"
      ]
    },
    "kernelspec": {
      "name": "python3",
      "display_name": "Python 3"
    },
    "accelerator": "GPU"
  },
  "cells": [
    {
      "metadata": {
        "colab_type": "text",
        "id": "AE1MP5GhFkFx"
      },
      "cell_type": "markdown",
      "source": [
        "# IAAV - Laborator #4\n",
        "# Rețele Neurale Convoluționale"
      ]
    },
    {
      "metadata": {
        "id": "qPxi9AvyEeA1",
        "colab_type": "text"
      },
      "cell_type": "markdown",
      "source": [
        "## Introducere\n",
        "\n",
        "În primul laborator am văzut cum un model liniar simplu a obținut o acuratețe de 91% în clasificarea cifrelor scrise manual din setul de date MNIST.\n",
        "\n",
        "În acest laborator vom implementa în TensorFlow o Rețea Neurală Convoluțională simplă care are o acuratețe de aproximativ 99%, sau chiar mai mult (în urma rezolvării exercițiilor propuse).\n",
        "\n",
        "Rețelele Neurale Convoluționale funcționează prin glisarea unor mici filtre de-a lungul imaginii de input. Asta înseamnă că filtrele sunt reutilizate pentru recunoașterea unor șabloane în imaginea dată. Asta face Rețeaua Neurală Convoluțională mai puternică decât una tradițională, Fully-Connected, cu același număr de parametri învățabili, și, de asemenea, mai rapid de antrenat.\n"
      ]
    },
    {
      "metadata": {
        "id": "nBSIfKxdEeA3",
        "colab_type": "text"
      },
      "cell_type": "markdown",
      "source": [
        "Schema de mai jos arată, în linii mari, modul în care fluxul de date se desfășoară în Rețeaua Neurală Convoluțională implementată mai jos.\n",
        "\n",
        "![Flowchart](https://github.com/Hvass-Labs/TensorFlow-Tutorials/blob/master/images/02_network_flowchart.png?raw=1)"
      ]
    },
    {
      "metadata": {
        "id": "KCC3OaTvEeA4",
        "colab_type": "text"
      },
      "cell_type": "markdown",
      "source": [
        "Imaginea de input este procesată în primul strat convoluțional folosind filtrele învățabile (Filter-Weights). Rezultă 16 `imagini` noi, câte una pentru fiecare filtru din stratul convoluțional. Imaginile sunt, de asemenea, micșorate, astfel că rezoluția este redusă de la 28x28 pixeli la 14x14 pixeli\n",
        "\n",
        "Cele 16 imagini mai mici sunt apoi processate în cel de-al doilea strat convoluțioal. Avem nevoie de filtre pentru fiecare dintre cele 16 canale, și avem nevoie și de filtre pentru fiecare canal rezultat din acest strat. Există 36 de canale în rezultat, deci există un total de `36 x 16 = 576` filtre în cel de-al doilea strat convoluțional. Imaginile rezultate sunt reduse din nou, la 7x7 pixeli.\n",
        "\n",
        "Rezultatul celui de-al doilea strat convoluțional constă în 36 de imagini de 7x7 pixeli fiecare. Acestea sunt apoi aplatizate într-un singur vector de lungime `7 x 7 x 36 = 1764`, care este folosit ca input pentru un strat fully-connected cu 128 de neuroni. Aceste este conectat la un alt strat fully-connected cu 10 neuroni, câte unul pentru fiecare clasă, reprezentând numărul din imaginea dată.\n",
        "\n",
        "Filtrele convoluționale sunt initializate aleatoriu. Eroarea dintre clasa prezisă și cea reală este măsurată cu ajutorul cross-entropy. Optimizatorul propagă apoi această eroare înapoi prin rețea folosind regula înlănțuirii pentru calculul gradienților și actualizează parametrii învățabili ai rețelei pentru a îmbunătăți eroarea de clasificare. Acesta este un proces iterativ, până când eroarea de clasificare este suficient de mică.\n",
        "\n",
        "Rețineți că optimizarea în TensorFlow nu se realizează pe o singură imagine, ci pe un subset de imagini, calculele realizându-se, astfel, mult mai eficient. Asta înseamnă că în TensorFlow, datele au, de fapt, mai multe dimensiuni decât în reprezentarea de mai sus.\n"
      ]
    },
    {
      "metadata": {
        "id": "T7n8wwDXEeA5",
        "colab_type": "text"
      },
      "cell_type": "markdown",
      "source": [
        "## Stratul Convoluțional"
      ]
    },
    {
      "metadata": {
        "id": "mBAjxqPlEeA6",
        "colab_type": "text"
      },
      "cell_type": "markdown",
      "source": [
        "Schema de mai jos prezintă conceptul de bază al procesării unei imagini în primul strat convoluțional. Imaginea de input reprezintă numărul `7` și patru copii ale sale sunt afișate, pentru a vedea mai clar modul în care filtrul este mutat în diferite poziții ale imaginii. Pentru fiecare poziție a filtrului, se calculează produsul scalar între filtru și pixelii din imagine de sub filtru și rezultă un singur pixel în imaginea de output. Deci, mutarea filtrului de-a lungul întregii imagini de input are ca rezultat o nouă imagine.\n",
        "\n",
        "Valorile roșii semnifică faptul că filtrul are o reacție pozitivă la pixelii negri din imaginea de input, în timp ce pixelii albaștri semnifică faptul că filtrul are o reacție negativă la pixelii negri.\n",
        "\n",
        "În acest caz se pare că filtrul recunoaște linia orizontală a cifrei `7`, după cum se poate vedea din reacția sa mai puternică la acea linie în imaginea rezultată.\n",
        "\n",
        "![Convolution example](https://github.com/Hvass-Labs/TensorFlow-Tutorials/blob/master/images/02_convolution.png?raw=1)"
      ]
    },
    {
      "metadata": {
        "id": "tDX2H5-REeA6",
        "colab_type": "text"
      },
      "cell_type": "markdown",
      "source": [
        "Pasul cu care se deplasează filtrul de-a lungul imaginii se numește **stride**. Există un stride pentru a muta filtrul pe axa orizontală (axa x) și un alt stride pentru a-l muta pe axa verticală (axa y).\n",
        "\n",
        "Noi vom setea `stride = 1` pentru ambele direcții, ceea ce înseamnă că filtrul este aplicat din colțul stânga-sus al imaginii și este mutat la dreapta cu 1 pixel la fiecare pas. Când filtrul ajunge la capătul dreapta al imaginii, este mutat înapoi la capătul din stânga și mai jos cu 1 pixel. Procesul continuă până când filtrul ajunge în colțul din dreapta jos al imagii și întreaga imagine de output a fost generată.\n",
        "\n",
        "Pentru ca imaginea de output să aibă aceeași dimensiune cu cea de input, se aplică `zero-padding` peste imaginea inițială.\n",
        "\n",
        "Mai mult, peste rezultatul convoluției se aplică ReLU, care asigură doar că rezultatul este non-negativ, prin înlocuirea valorilor negative cu zero. Rezultatul poate, de asemenea, să fie micșorat, prin `max-pooling`, care se aplică pe ferestre mici din output (2 x 2) și păstrează doar pixelul cu valoarea maximă. Acest lucru înjumătățește rezoluția imaginii.\n",
        "\n",
        "Observați că cel de-al doilea strat convoluțional este mai complicat, deoarece primește 16 canale ca input. Dorim un filtru separat pentru fiecare canal din input, deci avem nevoie de 16 filtre în loc de unul singur. În plus, dorim 36 de canale la ieșirea celui de-al doilea strat convoluțional, deci avem nevoie, în total, de `16 x 36 = 576` de filtre pentru cel de-al doilea strat convoluțional."
      ]
    },
    {
      "metadata": {
        "id": "TsMDlDcMEeA7",
        "colab_type": "text"
      },
      "cell_type": "markdown",
      "source": [
        "## Imports"
      ]
    },
    {
      "metadata": {
        "id": "SrTLpCloEeA8",
        "colab_type": "code",
        "colab": {}
      },
      "cell_type": "code",
      "source": [
        "%matplotlib inline\n",
        "import matplotlib.pyplot as plt\n",
        "import tensorflow as tf\n",
        "import numpy as np\n",
        "from sklearn.metrics import confusion_matrix\n",
        "import time\n",
        "from datetime import timedelta\n",
        "import math"
      ],
      "execution_count": 0,
      "outputs": []
    },
    {
      "metadata": {
        "id": "sllIa94FEeBC",
        "colab_type": "text"
      },
      "cell_type": "markdown",
      "source": [
        "Vizualizare versiune TensorFlow"
      ]
    },
    {
      "metadata": {
        "id": "PVxPeXvaEeBD",
        "colab_type": "code",
        "colab": {
          "base_uri": "https://localhost:8080/",
          "height": 35
        },
        "outputId": "b8cbffe5-bcdc-45b9-995b-3519a4b9cc3b"
      },
      "cell_type": "code",
      "source": [
        "tf.__version__"
      ],
      "execution_count": 985,
      "outputs": [
        {
          "output_type": "execute_result",
          "data": {
            "text/plain": [
              "'1.13.1'"
            ]
          },
          "metadata": {
            "tags": []
          },
          "execution_count": 985
        }
      ]
    },
    {
      "metadata": {
        "id": "flCDLoQ1EeBG",
        "colab_type": "text"
      },
      "cell_type": "markdown",
      "source": [
        "## Configurația Rețelei Neurale Convoluționale\n",
        "\n",
        "Definim aici configurația Rețelei Neurale Convoluționale pentru comodidate, astfel încât aceste valori să poată fi găsite și modificate ușor."
      ]
    },
    {
      "metadata": {
        "id": "EHJatdrvEeBH",
        "colab_type": "code",
        "colab": {}
      },
      "cell_type": "code",
      "source": [
        "\n",
        "# Primul strat convoluțional.\n",
        "filter_size1 = 5          # Filtrele convoluționale au dimensiune 5 x 5 pixeli.\n",
        "num_filters1 = 16         # Sunt 16 filtre.\n",
        "\n",
        "# Al 2-lea strat convoluțional.\n",
        "filter_size2 = 5          # Filtrele convoluționale au dimensiune 5 x 5 pixeli.\n",
        "num_filters2 = 36         # Sunt 36 de filtre. \n",
        "\n",
        "# Stratul fully-connected.\n",
        "fc_size = 128             # Numărul de neuroni în stratul fully-connected."
      ],
      "execution_count": 0,
      "outputs": []
    },
    {
      "metadata": {
        "id": "XqFa0QVFEeBK",
        "colab_type": "text"
      },
      "cell_type": "markdown",
      "source": [
        "## Load Data"
      ]
    },
    {
      "metadata": {
        "id": "xBRome_3EeBM",
        "colab_type": "code",
        "colab": {}
      },
      "cell_type": "code",
      "source": [
        "mnist = tf.keras.datasets.mnist"
      ],
      "execution_count": 0,
      "outputs": []
    },
    {
      "metadata": {
        "id": "VXYsFDXFEeBP",
        "colab_type": "text"
      },
      "cell_type": "markdown",
      "source": [
        "Setul de date MNIST conține 70.000 de imagini și adnotări (clase) pentru imagini. Imaginile sunt împărțite în 2 subseturi mutual exclusive, unul folosit pentru antrenare iar celălalt pentru testare."
      ]
    },
    {
      "metadata": {
        "scrolled": true,
        "id": "MB9SJV7JEeBQ",
        "colab_type": "code",
        "colab": {
          "base_uri": "https://localhost:8080/",
          "height": 86
        },
        "outputId": "c2555fe4-4580-4ebb-9a17-3d4381467c32"
      },
      "cell_type": "code",
      "source": [
        "(x_train, y_train),(x_test, y_test) = mnist.load_data()\n",
        "x_train, x_test = x_train / 255.0, x_test / 255.0\n",
        "\n",
        "print(\"Dimensiunea:\")\n",
        "print(\"- Setului de antrenare:\\t\\t{}\".format(y_train.shape[0]))\n",
        "print(\"- Setului de test:\\t\\t{}\".format(y_test.shape[0]))\n",
        "print(\"- Unei imagini:\\t\\t\\t{}\".format(x_train.shape[1:]))"
      ],
      "execution_count": 988,
      "outputs": [
        {
          "output_type": "stream",
          "text": [
            "Dimensiunea:\n",
            "- Setului de antrenare:\t\t60000\n",
            "- Setului de test:\t\t10000\n",
            "- Unei imagini:\t\t\t(28, 28)\n"
          ],
          "name": "stdout"
        }
      ]
    },
    {
      "metadata": {
        "id": "puZrfHETEeBV",
        "colab_type": "code",
        "colab": {}
      },
      "cell_type": "code",
      "source": [
        "# Dimensiunea axei unei imagini.\n",
        "img_size = x_train.shape[1]\n",
        "\n",
        "# Dimensiunea setului de antrenare.\n",
        "num_images = x_train.shape[0]\n",
        "\n",
        "# Dimensiunea unei imagini.\n",
        "img_shape = x_train.shape[1:]\n",
        "\n",
        "# Numărul de clase.\n",
        "num_classes = np.unique(y_train).size\n",
        "\n",
        "# numărul de canale: 1 pentru imagini grayscale.\n",
        "num_channels = 1"
      ],
      "execution_count": 0,
      "outputs": []
    },
    {
      "metadata": {
        "id": "kq3LNwEzvBWS",
        "colab_type": "text"
      },
      "cell_type": "markdown",
      "source": [
        "### Encodarea One-Hot"
      ]
    },
    {
      "metadata": {
        "id": "-b--lE4kvFAB",
        "colab_type": "text"
      },
      "cell_type": "markdown",
      "source": [
        "Clasele imaginilor sunt reprezentate de întregi, fiecare număr întreg semnificând indexul unei clase. În probleme de clasificare, însă, este nevoie ca valorile claselor să fie encodate One-Hot, adică fiecare întreg este convertit într-un vector a cărui lungime este egală cu numărul de clase. Toate elementele vectorului sunt 0 cu excepția elementului $i$ care este 1, semnificând faptul că exemplul respectiv aparține clasei $i$."
      ]
    },
    {
      "metadata": {
        "id": "kITKmxIYvQAM",
        "colab_type": "code",
        "colab": {}
      },
      "cell_type": "code",
      "source": [
        "y_train_one_hot = np.eye(num_classes)[y_train]\n",
        "y_test_one_hot = np.eye(num_classes)[y_test]\n"
      ],
      "execution_count": 0,
      "outputs": []
    },
    {
      "metadata": {
        "id": "agRg1fJAEeBX",
        "colab_type": "text"
      },
      "cell_type": "markdown",
      "source": [
        "### Funcții ajutătoare pentru afișarea imaginilor"
      ]
    },
    {
      "metadata": {
        "id": "jU6uJ3-fEeBd",
        "colab_type": "text"
      },
      "cell_type": "markdown",
      "source": [
        "Funcție pentru afișarea a 9 imagini într-un grid 3x3 și a claselor corecte și a celor prezise pentru fiecare imagine"
      ]
    },
    {
      "metadata": {
        "id": "caew-x1QEeBe",
        "colab_type": "code",
        "colab": {}
      },
      "cell_type": "code",
      "source": [
        "def plot_images(images, cls_true, cls_pred=None):\n",
        "    assert len(images) == len(cls_true) == 9\n",
        "    \n",
        "    # Create figure with 3x3 sub-plots.\n",
        "    fig, axes = plt.subplots(3, 3)\n",
        "    fig.subplots_adjust(hspace=0.3, wspace=0.3)\n",
        "\n",
        "    for i, ax in enumerate(axes.flat):\n",
        "        # Plot image.\n",
        "        ax.imshow(images[i].reshape(img_shape), cmap='binary')\n",
        "\n",
        "        # Show true and predicted classes.\n",
        "        if cls_pred is None:\n",
        "            xlabel = \"True: {0}\".format(cls_true[i])\n",
        "        else:\n",
        "            xlabel = \"True: {0}, Pred: {1}\".format(cls_true[i], cls_pred[i])\n",
        "\n",
        "        # Show the classes as the label on the x-axis.\n",
        "        ax.set_xlabel(xlabel)\n",
        "        \n",
        "        # Remove ticks from the plot.\n",
        "        ax.set_xticks([])\n",
        "        ax.set_yticks([])\n",
        "    \n",
        "    # Ensure the plot is shown correctly with multiple plots\n",
        "    # in a single Notebook cell.\n",
        "    plt.show()"
      ],
      "execution_count": 0,
      "outputs": []
    },
    {
      "metadata": {
        "id": "J5nfjm1EEeBg",
        "colab_type": "text"
      },
      "cell_type": "markdown",
      "source": [
        "### Afișează câteva imagini pentru a verifica corectitudinea datelor"
      ]
    },
    {
      "metadata": {
        "id": "EmgnRqCbEeBh",
        "colab_type": "code",
        "colab": {
          "base_uri": "https://localhost:8080/",
          "height": 263
        },
        "outputId": "805aac5f-e815-4dcc-ffe3-3c2a5273d56f"
      },
      "cell_type": "code",
      "source": [
        "# Obține primele imagini din setul de test.\n",
        "images = x_test[0:9]\n",
        "\n",
        "# Obține clasele reale pentru acele imagini.\n",
        "cls_true = y_test[0:9]\n",
        "\n",
        "# Afișează imaginile.\n",
        "plot_images(images=images, cls_true=cls_true)"
      ],
      "execution_count": 992,
      "outputs": [
        {
          "output_type": "display_data",
          "data": {
            "image/png": "[encoded data removed]",
            "text/plain": [
              "<Figure size 432x288 with 9 Axes>"
            ]
          },
          "metadata": {
            "tags": []
          }
        }
      ]
    },
    {
      "metadata": {
        "id": "ZieNzZIYEeBk",
        "colab_type": "text"
      },
      "cell_type": "markdown",
      "source": [
        "## [Graful TensorFlow](https://www.tensorflow.org/guide/graphs)\n",
        "\n",
        "Scopul general al TensorFlow este de a avea un așa-numit graf computațional care poate fi executat mult mai eficient decât dacă aceleași operații ar fi executate direct în Python. TensorFlow poate fi mai eficient și decât [NumPy](http://www.numpy.org/) pentru că TensorFlow cunoaște întregul graf computațional care trebuie executat, în timp ce NumPy cunoaște doar o singură operație matematică la un moment dat.\n",
        "\n",
        "TensorFlow poate, de asemenea, să calculeze automat gradienții necesari pentru optimizarea variabilelor grafului, astfel încât modelul să performeze mai bine. Acest lucru se datorează faptului că graful este o combinație de expresii matematice simple, astfel că gradientul întregului graf poate fi calculat folosind regula înlănțuirii pentru derivate.\n",
        "\n",
        "TensorFlow poate, de asemenea, să beneficieze de avantajul arhitecturilor multi-CPU și GPU iar Google chiar a construit arhitecturi speciale pentru TensorFlow ([TPU](https://cloud.google.com/tpu/) - Tensor Processing Units) care sunt chiar mai rapide decât GPU-urile.\n",
        "\n",
        "Un graf TensorFlow conține următoarele părți:\n",
        "\n",
        "* variabile de tip [Placeholder](https://www.tensorflow.org/api_docs/python/tf/placeholder)  folosite pentru a specifica input-ul în graf.\n",
        "* [variabilele modelului](https://www.tensorflow.org/guide/variables) care vor fi optimizate pentru a face modelul să performeze mai bine.\n",
        "* modelul care este, în esență, doar o funcție matematică care calculează un rezultat pe baza input-ului din variabilele placeholder și a variabilelor modelului.\n",
        "* o [funcție de cost](https://www.tensorflow.org/api_docs/python/tf/losses) folosită pentru a \"ghida\" optimizarea variabilelor.\n",
        "* o [metodă de optimizare](https://www.tensorflow.org/api_docs/python/tf/train) care actualizează variabilele modelului.\n",
        "\n",
        "În plus, graful TensorFlow mai poate conține diverse informații pentru debug, care pot fi afișate în [TensorBoard](https://www.tensorflow.org/guide/summaries_and_tensorboard)."
      ]
    },
    {
      "metadata": {
        "id": "oizHOlDJEeBl",
        "colab_type": "text"
      },
      "cell_type": "markdown",
      "source": [
        "### Funcții ajutătoare pentru crearea de noi variablie."
      ]
    },
    {
      "metadata": {
        "id": "kxDedJupEeBm",
        "colab_type": "text"
      },
      "cell_type": "markdown",
      "source": [
        "Funcții pentru crearea de noi variabile TensorFlow de dimensiune dată și inițializate aleatoriu.\n"
      ]
    },
    {
      "metadata": {
        "id": "G3L3CJpkEeBo",
        "colab_type": "code",
        "colab": {}
      },
      "cell_type": "code",
      "source": [
        "def new_weights(shape):\n",
        "    return tf.Variable(tf.truncated_normal(shape, stddev=0.05))"
      ],
      "execution_count": 0,
      "outputs": []
    },
    {
      "metadata": {
        "id": "WNhm8XerEeBr",
        "colab_type": "code",
        "colab": {}
      },
      "cell_type": "code",
      "source": [
        "def new_biases(length):\n",
        "    return tf.Variable(tf.constant(0.05, shape=[length]))"
      ],
      "execution_count": 0,
      "outputs": []
    },
    {
      "metadata": {
        "id": "svlZgDmmEeBv",
        "colab_type": "text"
      },
      "cell_type": "markdown",
      "source": [
        "### Funcție ajutătoare pentru crearea unui nou strat convoluțional."
      ]
    },
    {
      "metadata": {
        "id": "BESjKamlEeBx",
        "colab_type": "text"
      },
      "cell_type": "markdown",
      "source": [
        "Această funcție creează un nou strat convoluțional în graful TensorFlow. Nimic nu este calculat în acest moment, ci doar se adaugă operațiile matematice în graf.\n",
        "\n",
        "Presupunem că inputul este un tensor 4-dimensional, cu următoarele dimensiuni:\n",
        "\n",
        "1. batch_size.\n",
        "2. înălțime imagini.\n",
        "3. lățime imagini.\n",
        "4. canale imagini.\n",
        "\n",
        "Rezultatul este un alt tensor 4-dimensional, cu următoarele dimensiuni:\n",
        "\n",
        "1. batch_size, la fel ca input.\n",
        "2. înălțime imagini. Dacă a fost folosit pooling 2x2, atunci înălțimea imaginii de input este înjumătățită.\n",
        "3. lățime imagini. Dacă a fost folosit pooling 2x2, atunci înălțimea imaginii de input este înjumătățită.\n",
        "4. canale produse de filtrele convoluționale."
      ]
    },
    {
      "metadata": {
        "id": "T0G5NJzAEeBy",
        "colab_type": "code",
        "colab": {}
      },
      "cell_type": "code",
      "source": [
        "def new_conv_layer(input,              # Stratul anterior.\n",
        "                   num_input_channels, # Nr. canale în stratul anterior.\n",
        "                   filter_size,        # Înălțimea și lățimea fiecărui filtru.\n",
        "                   num_filters,        # Nr. de filtre.\n",
        "                   use_pooling=True):  # Aplică max-pooling 2x2.\n",
        "\n",
        "    # Forma filtrelor convoluționale.\n",
        "    # Formatul este stabilit de API-ul TensorFlow.\n",
        "    shape = [filter_size, filter_size, num_input_channels, num_filters]\n",
        "\n",
        "    # Creează ponderi noi (filtre de forma dată).\n",
        "    weights = new_weights(shape=shape)\n",
        "\n",
        "    # Creează noi bias-uri, unul pentru fiecare filtru\n",
        "    biases = new_biases(length=num_filters)\n",
        "\n",
        "    # Creează operația TensorFlow pentru convoluție.\n",
        "    # Observați că stride=1 pentru toate axele.\n",
        "    # Primul și ultimul stride sunt întotdeauna 1,\n",
        "    # pentru că prima dimensiune reprezintă batch_size-ul,\n",
        "    # iar ultima este numărul de canale în input.\n",
        "    # strides=[1, 2, 2, 1] semnifică faptul că filtrele sunt\n",
        "    # mutate 2 pixeli de-a lungul axelor x și y ale imaginilor.\n",
        "    # Padding este 'SAME', ceea ce înseamnă că la imaginea de input\n",
        "    # sunt adăugate zerouri astfel încât dimensiunea imaginii rezultate\n",
        "    # rămâne la fel.\n",
        "    layer = tf.nn.conv2d(input=input,\n",
        "                         filter=weights,\n",
        "                         strides=[1, 1, 1, 1],\n",
        "                         padding='SAME')\n",
        "\n",
        "    # Adaugă bias-urile la rezultatul convoluției.\n",
        "    # Se adaugă câte un bias la fiecare filru.\n",
        "    layer += biases\n",
        "\n",
        "    # Folosește pooling pentru a micșora imaginea?\n",
        "    if use_pooling:\n",
        "        # Folosește max-pooling 2x2, ceea ce înseamnă că\n",
        "        # ia în considerare ferestre de dimensiune 2x2 și \n",
        "        # păstrează cea mai mare valoare din fiecare fereastră.\n",
        "        # Apoi ne mutăm 2 pixeli în fereastra următoare.\n",
        "        layer = tf.nn.max_pool(value=layer,\n",
        "                               ksize=[1, 2, 2, 1],\n",
        "                               strides=[1, 2, 2, 1],\n",
        "                               padding='SAME')\n",
        "\n",
        "    # Rectified Linear Unit (ReLU).\n",
        "    # Calculează max(0, x) pentru fiecare pixel x din input.\n",
        "    # Asta adaugă neliniaritate în rețea și permite învățarea\n",
        "    # unor șabloane mai complicate în imagini.\n",
        "    layer = tf.nn.relu(layer)\n",
        "\n",
        "    # În mod normal, ReLU se execută înaintea pooling,\n",
        "    # dar pentru că relu(max_pool(x)) == max_pool(relu(x)),\n",
        "    # putem obține cu 75% mai puțin operații relu dacă\n",
        "    # executăm mai întâi max-pooling.\n",
        "\n",
        "    # Returnează atât stratul rezultat, cât și ponderile filtrelor,\n",
        "    # deoarece vom afișa aceste ponderi mai târziu.\n",
        "    return layer, weights"
      ],
      "execution_count": 0,
      "outputs": []
    },
    {
      "metadata": {
        "id": "xro_u6z2EeB1",
        "colab_type": "text"
      },
      "cell_type": "markdown",
      "source": [
        "### Funcție ajutătoare pentru aplatizarea unui strat\n",
        "\n",
        "Un strat convoluțional produce un tensor cu 4 dimensiuni. Pentru a adăuga un strat fully-connected după cele convoluționale, trebuie să reducem tensor-ul 4-dimensional la unul cu 2 dimensiuni, care poate fi folosit ca input în stratul fully-connected."
      ]
    },
    {
      "metadata": {
        "id": "Lu8cVs0FEeB2",
        "colab_type": "code",
        "colab": {}
      },
      "cell_type": "code",
      "source": [
        "def flatten_layer(layer):\n",
        "    # Obține forma stratului de input.\n",
        "    layer_shape = layer.get_shape()\n",
        "\n",
        "    # Presupunem că stratul de input este de forma:\n",
        "    # layer_shape == [batch_size, img_height, img_width, num_channels]\n",
        "\n",
        "    # Numărul de elemente într-un filtru: img_height * img_width * num_channels\n",
        "    num_features = layer_shape[1:4].num_elements()\n",
        "    \n",
        "    # Redimensionăm stratul pentru a fi [num_images, num_features]\n",
        "    # Observați că doar setăm dimensiunea celei de-a doua axe\n",
        "    # la num_features și dimensiunea primei axe la -1, ceea ce înseamnă\n",
        "    # că dimensiunea acelei axe este calculată astfel încât dimensiunea\n",
        "    # totală a tensor-ului rămâne neschimbată.\n",
        "    layer_flat = tf.reshape(layer, [-1, num_features])\n",
        "\n",
        "    # Noul strat are acum forma:\n",
        "    # [batch_size, img_height * img_width * num_channels]\n",
        "\n",
        "    # Returnează atât stratul aplatizat, cât și numărul de features.\n",
        "    return layer_flat, num_features"
      ],
      "execution_count": 0,
      "outputs": []
    },
    {
      "metadata": {
        "id": "okMdnchYEeB5",
        "colab_type": "text"
      },
      "cell_type": "markdown",
      "source": [
        "### Funcție ajutătoare pentru crearea unui strat fully-connected."
      ]
    },
    {
      "metadata": {
        "id": "-qYHQ-y4EeB5",
        "colab_type": "text"
      },
      "cell_type": "markdown",
      "source": [
        "Această funcție creează un nou strat fully-connected în graful computațional TensorFlow. Nimic nu este calculat în acest moment, doar se adaugă operațiile matematice în graf.\n",
        "\n",
        "Presupunem că input-ul este un tensor 2D de forma `[batch_size, num_inputs]`. Output-ul este un tensor de forma `[batch_size, num_outputs]`."
      ]
    },
    {
      "metadata": {
        "id": "vswWX96JEeB6",
        "colab_type": "code",
        "colab": {}
      },
      "cell_type": "code",
      "source": [
        "def new_fc_layer(input,          # Stratul anterior.\n",
        "                 num_inputs,     # Nr. neuroni în stratul anterior.\n",
        "                 num_outputs,    # Nr. neuroni.\n",
        "                 use_relu=True): # Folosește Rectified Linear Unit (ReLU)?\n",
        "\n",
        "    # Creează noi ponderi și bias.\n",
        "    weights = new_weights(shape=[num_inputs, num_outputs])\n",
        "    biases = new_biases(length=num_outputs)\n",
        "\n",
        "    # Definește stratul ca înmulțirea matriceală dintre\n",
        "    # input și ponderi, apoi adaugă bias-urile.\n",
        "    layer = tf.matmul(input, weights) + biases\n",
        "\n",
        "    # Folosește ReLU?\n",
        "    if use_relu:\n",
        "        layer = tf.nn.relu(layer)\n",
        "\n",
        "    return layer"
      ],
      "execution_count": 0,
      "outputs": []
    },
    {
      "metadata": {
        "id": "-h3CLBbKEeB8",
        "colab_type": "text"
      },
      "cell_type": "markdown",
      "source": [
        "### [Variabile Placeholder](https://www.tensorflow.org/api_docs/python/tf/placeholder)"
      ]
    },
    {
      "metadata": {
        "id": "g7x4yumdEeB9",
        "colab_type": "text"
      },
      "cell_type": "markdown",
      "source": [
        "Variabilele Placeholder servesc ca input în graf și pot fi schimbate de fiecare dată când executăm graful. \n",
        "\n",
        "Mai întâi definim variabila Placeholder pentru imaginile de input. Asta ne permite să schimbăm imaginile pe care le vom trimite grafului TensorFlow. Aceasta este un așa-numit [tensor](https://en.wikipedia.org/wiki/Tensor) care este doar un vector multi-dimensional sau o matrice. Tipul de date este `float32` iar forma tensorului este `[None, img_size, img_size, num_channels]`, unde `None` semnifică faptul că tensorul poate conține un număr arbitrar de imagini."
      ]
    },
    {
      "metadata": {
        "id": "unNV-csHEeB-",
        "colab_type": "code",
        "colab": {}
      },
      "cell_type": "code",
      "source": [
        "x = tf.placeholder(tf.float32, shape=[None, img_size, img_size], name='x')\n",
        "x_image = tf.reshape(x, [-1, img_size, img_size, num_channels])"
      ],
      "execution_count": 0,
      "outputs": []
    },
    {
      "metadata": {
        "id": "LdMgyMh9EeCC",
        "colab_type": "text"
      },
      "cell_type": "markdown",
      "source": [
        "În continuare definim variabila placeholder pentru clasele corecte encodate one-hot, asociate imaginilor date ca input în variabila `x` definită anterior. Forma acestui tensor este `[None, num_classes]`, semnificând faptul că poate conține un număr arbitrar de exemple, fiecare fiind un vector de lungime `num_classes`, care este 10 în acest caz."
      ]
    },
    {
      "metadata": {
        "id": "SJgJmDwqEeCD",
        "colab_type": "code",
        "colab": {}
      },
      "cell_type": "code",
      "source": [
        "y_true = tf.placeholder(tf.float32, shape=[None, num_classes], name='y_true')"
      ],
      "execution_count": 0,
      "outputs": []
    },
    {
      "metadata": {
        "id": "1hqjea5yEeCH",
        "colab_type": "text"
      },
      "cell_type": "markdown",
      "source": [
        "Folosim `argmax` pentru a obține clasa fiecărei imagini."
      ]
    },
    {
      "metadata": {
        "id": "VW0G1g8IEeCH",
        "colab_type": "code",
        "colab": {}
      },
      "cell_type": "code",
      "source": [
        "y_true_cls = tf.argmax(y_true, axis=1)"
      ],
      "execution_count": 0,
      "outputs": []
    },
    {
      "metadata": {
        "id": "7_cjstmVEeCK",
        "colab_type": "text"
      },
      "cell_type": "markdown",
      "source": [
        "### Primul strat convoluțional\n",
        "\n",
        "Creează primul strat convoluțional. Primește `x_image` ca input și creeazp `num_filters1` filtre diferite, fiecare având înălțimea și lățimea egale cu `filter_size1`. În final, dorim să micșorăm imaginea la jumătate din dimensiunea inițială, folosind max-pooling 2x2."
      ]
    },
    {
      "metadata": {
        "id": "T1ABeQh4EeCK",
        "colab_type": "code",
        "colab": {}
      },
      "cell_type": "code",
      "source": [
        "layer_conv1, weights_conv1 = \\\n",
        "    new_conv_layer(input=x_image,\n",
        "                   num_input_channels=num_channels,\n",
        "                   filter_size=filter_size1,\n",
        "                   num_filters=num_filters1,\n",
        "                   use_pooling=False)"
      ],
      "execution_count": 0,
      "outputs": []
    },
    {
      "metadata": {
        "id": "ICu5jBzCEeCM",
        "colab_type": "text"
      },
      "cell_type": "markdown",
      "source": [
        "Verifică dimensiuna tensorului rezultat în urma convoluției. Ar trebui să fie (?, 14, 14, 16), semnificând faptul că există un număr arbitrar de imagini, fiecare de dimensiune 14x14, și sunt 16 canale diferite, un canal pentru fiecare filtru."
      ]
    },
    {
      "metadata": {
        "id": "VYKjhzfIEeCO",
        "colab_type": "code",
        "colab": {
          "base_uri": "https://localhost:8080/",
          "height": 35
        },
        "outputId": "3f16cbf8-92a9-43af-af86-93e552b4ca87"
      },
      "cell_type": "code",
      "source": [
        "layer_conv1"
      ],
      "execution_count": 1002,
      "outputs": [
        {
          "output_type": "execute_result",
          "data": {
            "text/plain": [
              "<tf.Tensor 'Relu_50:0' shape=(?, 28, 28, 16) dtype=float32>"
            ]
          },
          "metadata": {
            "tags": []
          },
          "execution_count": 1002
        }
      ]
    },
    {
      "metadata": {
        "id": "v8sdsT1fEeCS",
        "colab_type": "text"
      },
      "cell_type": "markdown",
      "source": [
        "### Al 2-lea strat convoluțional\n",
        "\n",
        "Creează cel de-al 2-lea strat convoluțional, care primește ca input rezultatul primului strat convoluțional. Numărul de canale din input corespunde numărului de filtre din primul strat convoluțional."
      ]
    },
    {
      "metadata": {
        "id": "FA0DiMQbEeCT",
        "colab_type": "code",
        "colab": {}
      },
      "cell_type": "code",
      "source": [
        "layer_conv2, weights_conv2 = \\\n",
        "    new_conv_layer(input=layer_conv1,\n",
        "                   num_input_channels=num_filters1,\n",
        "                   filter_size=filter_size2,\n",
        "                   num_filters=num_filters2,\n",
        "                   use_pooling=False)"
      ],
      "execution_count": 0,
      "outputs": []
    },
    {
      "metadata": {
        "id": "Fy4Jg_XmEeCW",
        "colab_type": "text"
      },
      "cell_type": "markdown",
      "source": [
        "Verifică dimensiuna tensorului rezultat în urma convoluției. Ar trebui să fie (?, 7, 7, 36), semnificând faptul că există un număr arbitrar de imagini, fiecare de dimensiune 7x7, și sunt 36 canale diferite, un canal pentru fiecare filtru."
      ]
    },
    {
      "metadata": {
        "id": "2InqumIoEeCX",
        "colab_type": "code",
        "colab": {
          "base_uri": "https://localhost:8080/",
          "height": 35
        },
        "outputId": "d06fe877-89a2-4b0b-f4c8-b0cffd3c3fe3"
      },
      "cell_type": "code",
      "source": [
        "layer_conv2"
      ],
      "execution_count": 1004,
      "outputs": [
        {
          "output_type": "execute_result",
          "data": {
            "text/plain": [
              "<tf.Tensor 'Relu_51:0' shape=(?, 28, 28, 36) dtype=float32>"
            ]
          },
          "metadata": {
            "tags": []
          },
          "execution_count": 1004
        }
      ]
    },
    {
      "metadata": {
        "id": "w3XxRw0WEeCZ",
        "colab_type": "text"
      },
      "cell_type": "markdown",
      "source": [
        "Rezultatul celui de-al 2-lea strat convoluțional este un tensor 4D. Vrem acum să-l folosim ca input într-un strat fully-connected, ceea ce necesită redimensionarea sa într-un tensor 2D."
      ]
    },
    {
      "metadata": {
        "id": "fOC1R5rGEeCa",
        "colab_type": "code",
        "colab": {}
      },
      "cell_type": "code",
      "source": [
        "layer_flat, num_features = flatten_layer(layer_conv2)"
      ],
      "execution_count": 0,
      "outputs": []
    },
    {
      "metadata": {
        "id": "81HZ685DEeCe",
        "colab_type": "text"
      },
      "cell_type": "markdown",
      "source": [
        "Verifică dimensiunea tensorului aplatizat, care ar trebui să fie (?, 1764), ceea ce înseamnă că există un număr arbitrar de imagini, care au fost transformate în vectori de dimensiune 1764 fiecare (7 x 7 x 36 = 1764)."
      ]
    },
    {
      "metadata": {
        "id": "IIuJiU6fEeCf",
        "colab_type": "code",
        "colab": {
          "base_uri": "https://localhost:8080/",
          "height": 35
        },
        "outputId": "5cb1f4a1-5fcd-4ff6-9747-9de615217e71"
      },
      "cell_type": "code",
      "source": [
        "layer_flat"
      ],
      "execution_count": 1006,
      "outputs": [
        {
          "output_type": "execute_result",
          "data": {
            "text/plain": [
              "<tf.Tensor 'Reshape_34:0' shape=(?, 28224) dtype=float32>"
            ]
          },
          "metadata": {
            "tags": []
          },
          "execution_count": 1006
        }
      ]
    },
    {
      "metadata": {
        "id": "jTASKtIbEeCh",
        "colab_type": "code",
        "colab": {
          "base_uri": "https://localhost:8080/",
          "height": 35
        },
        "outputId": "40be9f57-721d-428e-e2f0-7d4b4ee1bb61"
      },
      "cell_type": "code",
      "source": [
        "num_features"
      ],
      "execution_count": 1007,
      "outputs": [
        {
          "output_type": "execute_result",
          "data": {
            "text/plain": [
              "28224"
            ]
          },
          "metadata": {
            "tags": []
          },
          "execution_count": 1007
        }
      ]
    },
    {
      "metadata": {
        "id": "JtZpY1_iEeCk",
        "colab_type": "text"
      },
      "cell_type": "markdown",
      "source": [
        "### Primul strat fully-connected\n",
        "\n",
        "Adaugă un strat fully-connected în rețea. Input este tensorul aplatizat obținut în urma convoluției anterioare. Numărul de neuroni în stratul fully-connected este `fc_size`. Se aplică ReLU pentru a învăța relații ne-liniare."
      ]
    },
    {
      "metadata": {
        "id": "A76DT2qGEeCl",
        "colab_type": "code",
        "colab": {}
      },
      "cell_type": "code",
      "source": [
        "layer_fc1 = new_fc_layer(input=layer_flat,\n",
        "                         num_inputs=num_features,\n",
        "                         num_outputs=fc_size,\n",
        "                         use_relu=True)"
      ],
      "execution_count": 0,
      "outputs": []
    },
    {
      "metadata": {
        "id": "xI7VkTKrEeCs",
        "colab_type": "text"
      },
      "cell_type": "markdown",
      "source": [
        "Verifică dimensiunea tensorului rezultat în urma stratului fully-connected, care ar trebui să fie (?, 128), unde ? înseamnă că există un număr arbitrar de imagini, iar `fc_size` == 128."
      ]
    },
    {
      "metadata": {
        "id": "A_FMyzAjEeCt",
        "colab_type": "code",
        "colab": {
          "base_uri": "https://localhost:8080/",
          "height": 35
        },
        "outputId": "f19a7090-8a61-4be4-d4f8-b35e950a4f7a"
      },
      "cell_type": "code",
      "source": [
        "layer_fc1"
      ],
      "execution_count": 1009,
      "outputs": [
        {
          "output_type": "execute_result",
          "data": {
            "text/plain": [
              "<tf.Tensor 'Relu_52:0' shape=(?, 128) dtype=float32>"
            ]
          },
          "metadata": {
            "tags": []
          },
          "execution_count": 1009
        }
      ]
    },
    {
      "metadata": {
        "id": "414pfjhLEeCv",
        "colab_type": "text"
      },
      "cell_type": "markdown",
      "source": [
        "### Cel de-al 2-lea strat fully-connected\n",
        "\n",
        "Adaugă încă un strat fully-connected care scoate vectori de lungime 10, pentru a determina cărei clase din cele 10 aparține imaginea de input. Observați că după acest strat nu se aplică ReLU."
      ]
    },
    {
      "metadata": {
        "id": "p2Cz6gJDEeCw",
        "colab_type": "code",
        "colab": {}
      },
      "cell_type": "code",
      "source": [
        "layer_fc2 = new_fc_layer(input=layer_fc1,\n",
        "                         num_inputs=fc_size,\n",
        "                         num_outputs=num_classes,\n",
        "                         use_relu=False)"
      ],
      "execution_count": 0,
      "outputs": []
    },
    {
      "metadata": {
        "id": "paauWGBsEeC0",
        "colab_type": "code",
        "colab": {
          "base_uri": "https://localhost:8080/",
          "height": 35
        },
        "outputId": "8a53a164-d2ff-4364-e23f-96e7e95ead4c"
      },
      "cell_type": "code",
      "source": [
        "layer_fc2"
      ],
      "execution_count": 1011,
      "outputs": [
        {
          "output_type": "execute_result",
          "data": {
            "text/plain": [
              "<tf.Tensor 'add_70:0' shape=(?, 10) dtype=float32>"
            ]
          },
          "metadata": {
            "tags": []
          },
          "execution_count": 1011
        }
      ]
    },
    {
      "metadata": {
        "id": "fYPEgRvBEeC4",
        "colab_type": "text"
      },
      "cell_type": "markdown",
      "source": [
        "### Clasa prezisă"
      ]
    },
    {
      "metadata": {
        "id": "3RCP1KS5EeC5",
        "colab_type": "text"
      },
      "cell_type": "markdown",
      "source": [
        "Cel de-al 2-lea strat fully-connected evaluează probabilitatea ca imaginea de input să aparțină fiecăreia din cele 10 clase. Cu toate acestea, aceste estimări sunt dificil de interpretat pentru că numerele pot fi foarte mici sau foarte mari, așa că dorim să le normalizăm astfel încât fiecare element este limitat între 0 și 1, iar suma lor este 1. Pentru aceasta folosim funcția `softmax`, iar rezultatul este păstrat în `y_pred`."
      ]
    },
    {
      "metadata": {
        "id": "rCDMuVgdEeC8",
        "colab_type": "code",
        "colab": {}
      },
      "cell_type": "code",
      "source": [
        "y_pred = tf.nn.softmax(layer_fc2)"
      ],
      "execution_count": 0,
      "outputs": []
    },
    {
      "metadata": {
        "id": "rh2fMaurEeC9",
        "colab_type": "text"
      },
      "cell_type": "markdown",
      "source": [
        "Clasa prezisă poate fi calculată din `y_pred` prin obținerea indexului elementului maxim de pe fiecare rând."
      ]
    },
    {
      "metadata": {
        "id": "nDLDVTAOEeC-",
        "colab_type": "code",
        "colab": {}
      },
      "cell_type": "code",
      "source": [
        "y_pred_cls = tf.argmax(y_pred, axis=1)"
      ],
      "execution_count": 0,
      "outputs": []
    },
    {
      "metadata": {
        "id": "77v8TY2_EeC_",
        "colab_type": "text"
      },
      "cell_type": "markdown",
      "source": [
        "### Funcția de cost"
      ]
    },
    {
      "metadata": {
        "id": "Qio3sYIpEeDA",
        "colab_type": "text"
      },
      "cell_type": "markdown",
      "source": [
        "Pentru a îmbunătăți modelul în clasificarea imaginilor de input, trebuie să modificăm cumva ponderile tuturor straturilor rețelei. Pentru a realiza asta, trebuie să știm cât de bine performează modelul, comparând rezultatul prezis de model `y_pred` cu valorile corecte `y_true`.\n",
        "\n",
        "[`cross-entropy`](https://en.wikipedia.org/wiki/Cross_entropy) este o măsură a performanței utilizată în clasificare. Este o funcție continuă, pozitivă tot timpul și dacă rezultatele prezise de model se potrivesc exact cu rezultatele corecte, atunci valoarea cross-entropy este 0. Scopul optimizării este, astfel, minimizarea valorii cross-entropy, să tindă către 0 prin modificarea ponderilor straturilor rețelei.\n",
        "\n",
        "TensorFlow conține o funcție pentru calcularea cross-entropy. Observați că folosește valorile din `layer_fc2` pentru că intern calculează și `softmax`."
      ]
    },
    {
      "metadata": {
        "id": "XRJHjjjPEeDA",
        "colab_type": "code",
        "colab": {}
      },
      "cell_type": "code",
      "source": [
        "cross_entropy = tf.nn.softmax_cross_entropy_with_logits(logits=layer_fc2,\n",
        "                                                        labels=y_true)"
      ],
      "execution_count": 0,
      "outputs": []
    },
    {
      "metadata": {
        "id": "BwwqFeOzEeDD",
        "colab_type": "text"
      },
      "cell_type": "markdown",
      "source": [
        "Acum am calculat cross-entropy pentru fiecare clasificare de imagine, astfel că avem o măsură a cât de bine performează modelul pe fiecare imagine în parte. Dar pentru a folosi cross-entropy pentru a \"ghida\" optimizarea variabilelor modelului, avem nevoie de o singură valoare scalară, astfel că pur și simplu vom calcula media valorilor cross-entropy pentru toate clasificările făcute."
      ]
    },
    {
      "metadata": {
        "id": "XXNPR1-bEeDD",
        "colab_type": "code",
        "colab": {}
      },
      "cell_type": "code",
      "source": [
        "cost = tf.reduce_mean(cross_entropy)"
      ],
      "execution_count": 0,
      "outputs": []
    },
    {
      "metadata": {
        "id": "vAreyJQDEeDF",
        "colab_type": "text"
      },
      "cell_type": "markdown",
      "source": [
        "### Metoda de optimizare"
      ]
    },
    {
      "metadata": {
        "id": "hDTB2rT1EeDG",
        "colab_type": "text"
      },
      "cell_type": "markdown",
      "source": [
        "Acum că avem o măsură a costului care trebuie minimizat, putem defini un optimizator. În acest caz vom folosi [AdamOptimizer](https://www.tensorflow.org/api_docs/python/tf/train/AdamOptimizer), care este o variantă avansată a Gradient Descent.\n",
        "\n",
        "Observați că optimizarea nu se execută în acest past. De fapt, nimic nu este calculat până acum, operațiile doar au fost adaugate în graful TensorFlow pentru a fi executate mai târziu."
      ]
    },
    {
      "metadata": {
        "id": "cxQkAj1xEeDG",
        "colab_type": "code",
        "colab": {}
      },
      "cell_type": "code",
      "source": [
        "optimizer = tf.train.AdamOptimizer(learning_rate=1e-4).minimize(cost)"
      ],
      "execution_count": 0,
      "outputs": []
    },
    {
      "metadata": {
        "id": "S43Bz882EeDI",
        "colab_type": "text"
      },
      "cell_type": "markdown",
      "source": [
        "### Măsuri ale performanței"
      ]
    },
    {
      "metadata": {
        "id": "JEVL9RXiEeDK",
        "colab_type": "text"
      },
      "cell_type": "markdown",
      "source": [
        "Avem nevoie de câteva măsuri de performanță pentru a fi afișate utilizatorului.\n",
        "\n",
        "Acesta este un vector de `bool` care specifică dacă clasa prezisă coincide cu cea reală."
      ]
    },
    {
      "metadata": {
        "id": "U5aNz5HWEeDK",
        "colab_type": "code",
        "colab": {}
      },
      "cell_type": "code",
      "source": [
        "correct_prediction = tf.equal(y_pred_cls, y_true_cls)"
      ],
      "execution_count": 0,
      "outputs": []
    },
    {
      "metadata": {
        "id": "BRlfNlFyEeDM",
        "colab_type": "text"
      },
      "cell_type": "markdown",
      "source": [
        "Aceasta calculează acuratețea clasificării, prin convertirea vectorului la float, astfel că False devine 0, iar True devine 1, după care se calculează media acestor numere."
      ]
    },
    {
      "metadata": {
        "id": "JFJISNkvEeDM",
        "colab_type": "code",
        "colab": {}
      },
      "cell_type": "code",
      "source": [
        "accuracy = tf.reduce_mean(tf.cast(correct_prediction, tf.float32))"
      ],
      "execution_count": 0,
      "outputs": []
    },
    {
      "metadata": {
        "id": "BQEQnnJPEeDO",
        "colab_type": "text"
      },
      "cell_type": "markdown",
      "source": [
        "## TensorFlow Run"
      ]
    },
    {
      "metadata": {
        "id": "4-2gxO5eEeDP",
        "colab_type": "text"
      },
      "cell_type": "markdown",
      "source": [
        "### Creează Sesiunea TensorFlow\n",
        "\n",
        "După ce graful TensorFlow a fost finalizat, trebuie să creăm o sesiune TensorFlow pentru a executa graful."
      ]
    },
    {
      "metadata": {
        "id": "xmWYRsL3EeDQ",
        "colab_type": "code",
        "colab": {}
      },
      "cell_type": "code",
      "source": [
        "session = tf.Session()"
      ],
      "execution_count": 0,
      "outputs": []
    },
    {
      "metadata": {
        "id": "mySsGXD5EeDS",
        "colab_type": "text"
      },
      "cell_type": "markdown",
      "source": [
        "### Inițializează variabilele\n",
        "\n",
        "Variabilele `weights` și `biases` trebuie inițializate înainte de a le optimiza."
      ]
    },
    {
      "metadata": {
        "id": "00XTR-KqEeDS",
        "colab_type": "code",
        "colab": {}
      },
      "cell_type": "code",
      "source": [
        "session.run(tf.global_variables_initializer())"
      ],
      "execution_count": 0,
      "outputs": []
    },
    {
      "metadata": {
        "id": "ug_u0HsJEeDT",
        "colab_type": "text"
      },
      "cell_type": "markdown",
      "source": [
        "### Funcție ajutătoare pentru a realiza optimizarea"
      ]
    },
    {
      "metadata": {
        "id": "QfXXxMjdEeDU",
        "colab_type": "text"
      },
      "cell_type": "markdown",
      "source": [
        "Sunt 60.000 de imagini în setul de antrenare, astfel că durează mult să calculăm gradientul modelului folosind întreg setul. Așadar vom folosi doar un mic subset de imagini la fiecare iterație a optimizatorului."
      ]
    },
    {
      "metadata": {
        "id": "0JfG3aE9EeDV",
        "colab_type": "code",
        "colab": {}
      },
      "cell_type": "code",
      "source": [
        "train_batch_size = 64"
      ],
      "execution_count": 0,
      "outputs": []
    },
    {
      "metadata": {
        "id": "6qYDJ6-EEeDY",
        "colab_type": "text"
      },
      "cell_type": "markdown",
      "source": [
        "Funcție pentru a realiza un număr de iterații de optimizare astfel încât să îmbunătățim gradual ponderile rețelei. În fiecare iterație, un nou subset de imagini este selectat din setul de antrenare iar TensorFlow execută optimizarea folosind sub-setul respectiv. Progresul este afișat după fiecare 100 de iterații."
      ]
    },
    {
      "metadata": {
        "id": "fvmewad-EeDY",
        "colab_type": "code",
        "colab": {}
      },
      "cell_type": "code",
      "source": [
        "# Numărul total de iterații executate până acum.\n",
        "total_iterations = 0\n",
        "\n",
        "indices = np.arange(num_images)\n",
        "\n",
        "def optimize(num_iterations):\n",
        "    # Ne asigurăm că actualizăm variabila globală și nu o copie locală.\n",
        "    global total_iterations\n",
        "\n",
        "    start_time = time.time()\n",
        "\n",
        "    for i in range(total_iterations,\n",
        "                   total_iterations + num_iterations):\n",
        "\n",
        "        # Obține un subset de exemple de antrenare\n",
        "        # x_batch conține subsetul de imagini\n",
        "        # y_true_batch conține subsetul de clase.\n",
        "        batch_indices = np.random.choice(indices, train_batch_size)\n",
        "        x_batch = x_train[batch_indices]\n",
        "        y_true_batch = y_train_one_hot[batch_indices]\n",
        "\n",
        "        # Pune subsetul de imagini și clase într-un dicționar\n",
        "        # cu numele corespunzătoare pentru variabilele placeholder\n",
        "        # din graful TensorFlow.\n",
        "        # Observați că placeholderul y_true_cls nu este adăugat\n",
        "        # în dicționar pentru că nu este folosit în timpul antrenării.\n",
        "        feed_dict_train = {x: x_batch,\n",
        "                           y_true: y_true_batch}\n",
        "\n",
        "        # Execută optimizatorul folosind acest subset de exemple.\n",
        "        # TensorFlow asignează variabilele din dicționarul \n",
        "        # feed_dict_train placeholder-elor după care execută optimizatorul.\n",
        "        session.run(optimizer, feed_dict=feed_dict_train)\n",
        "\n",
        "        # Afișează progresul la fiecare 100 de iterații.\n",
        "        if i % 100 == 0:\n",
        "            # Calculează acuratețea pe setul de antrenare.\n",
        "            acc = session.run(accuracy, feed_dict=feed_dict_train)\n",
        "\n",
        "\n",
        "            msg = \"Iter: {0:>6}, Training Accuracy: {1:>6.1%}\"\n",
        "\n",
        "            print(msg.format(i + 1, acc))\n",
        "\n",
        "    # Actualizează numărul total de iterații executate.\n",
        "    total_iterations += num_iterations\n",
        "\n",
        "    end_time = time.time()\n",
        "    time_dif = end_time - start_time\n",
        "\n",
        "    print(\"Time: \" + str(timedelta(seconds=int(round(time_dif)))))"
      ],
      "execution_count": 0,
      "outputs": []
    },
    {
      "metadata": {
        "id": "yAYAVPjwEeDb",
        "colab_type": "text"
      },
      "cell_type": "markdown",
      "source": [
        "### Funcție ajutătoare pentru afișarea exemplelor greșite"
      ]
    },
    {
      "metadata": {
        "id": "Cd7Vb5XDEeDc",
        "colab_type": "code",
        "colab": {}
      },
      "cell_type": "code",
      "source": [
        "def plot_example_errors(cls_pred, correct):\n",
        "    incorrect = (correct == False)\n",
        "    \n",
        "    # Obține imaginile clasificate greșit.\n",
        "    images = x_test[incorrect]\n",
        "    \n",
        "    # Obține clasele prezise pentru aceste imagini.\n",
        "    cls_pred = cls_pred[incorrect]\n",
        "\n",
        "    # Obține clasele corecte pentru aceste imagini.\n",
        "    cls_true = y_test[incorrect]\n",
        "    \n",
        "    # Afișează primele 9 imagini.\n",
        "    plot_images(images=images[0:9],\n",
        "                cls_true=cls_true[0:9],\n",
        "                cls_pred=cls_pred[0:9])"
      ],
      "execution_count": 0,
      "outputs": []
    },
    {
      "metadata": {
        "id": "FM0vrE4TEeDd",
        "colab_type": "text"
      },
      "cell_type": "markdown",
      "source": [
        "### Funcție pentru afișarea matricei de confuzie"
      ]
    },
    {
      "metadata": {
        "id": "n0l0CpoZEeDe",
        "colab_type": "code",
        "colab": {}
      },
      "cell_type": "code",
      "source": [
        "def plot_confusion_matrix(cls_pred):\n",
        "  \n",
        "    # Obține clasele prezise pentru setul de test.\n",
        "    cls_true = y_test\n",
        "    \n",
        "    # Obține matricea de confuzie.\n",
        "    cm = confusion_matrix(y_true=cls_true,\n",
        "                          y_pred=cls_pred)\n",
        "\n",
        "    # Printează matricea de confuzie.\n",
        "    print(cm)\n",
        "\n",
        "    # Afișează matricea de confuzie sub formă de imagine.\n",
        "    plt.matshow(cm)\n",
        "\n",
        "    plt.colorbar()\n",
        "    tick_marks = np.arange(num_classes)\n",
        "    plt.xticks(tick_marks, range(num_classes))\n",
        "    plt.yticks(tick_marks, range(num_classes))\n",
        "    plt.xlabel('Predicted')\n",
        "    plt.ylabel('True')\n",
        "\n",
        "    plt.show()"
      ],
      "execution_count": 0,
      "outputs": []
    },
    {
      "metadata": {
        "id": "BfiOBCYnEeDf",
        "colab_type": "text"
      },
      "cell_type": "markdown",
      "source": [
        "### Funcție ajutătoare pentru afișarea performanței"
      ]
    },
    {
      "metadata": {
        "id": "DUriICt-EeDg",
        "colab_type": "code",
        "colab": {}
      },
      "cell_type": "code",
      "source": [
        "test_batch_size = 256\n",
        "\n",
        "def print_test_accuracy(show_example_errors=False,\n",
        "                        show_confusion_matrix=False):\n",
        "\n",
        "    # Numărul de imagini în setul de test.\n",
        "    num_test = x_test.shape[0]\n",
        "\n",
        "    # Alocă un array pentru clasele prezise.\n",
        "    cls_pred = np.zeros(shape=num_test, dtype=np.int)\n",
        "\n",
        "    # Prezice clasele imaginilor de test\n",
        "    i = 0\n",
        "\n",
        "    while i < num_test:\n",
        "        j = min(i + test_batch_size, num_test)\n",
        "\n",
        "        images = x_test[i:j, :]\n",
        "        labels = y_test_one_hot[i:j, :]\n",
        "\n",
        "        feed_dict = {x: images,\n",
        "                     y_true: labels}\n",
        "\n",
        "        # Calculează clasa folosind TensorFlow.\n",
        "        cls_pred[i:j] = session.run(y_pred_cls, feed_dict=feed_dict)\n",
        "        i = j\n",
        "\n",
        "    cls_true = y_test\n",
        "\n",
        "    correct = (cls_true == cls_pred)\n",
        "\n",
        "    # Numărul de imagini clasificate corect.\n",
        "    correct_sum = correct.sum()\n",
        "\n",
        "    # Calculează acuratețea.\n",
        "    acc = float(correct_sum) / num_test\n",
        "\n",
        "    # Afișează acuratețea.\n",
        "    msg = \"Accuracy on Test-Set: {0:.1%} ({1} / {2})\"\n",
        "    print(msg.format(acc, correct_sum, num_test))\n",
        "\n",
        "    if show_example_errors:\n",
        "        print(\"Example errors:\")\n",
        "        plot_example_errors(cls_pred=cls_pred, correct=correct)\n",
        "\n",
        "    if show_confusion_matrix:\n",
        "        print(\"Confusion Matrix:\")\n",
        "        plot_confusion_matrix(cls_pred=cls_pred)"
      ],
      "execution_count": 0,
      "outputs": []
    },
    {
      "metadata": {
        "id": "vdHg-i0kEeDi",
        "colab_type": "text"
      },
      "cell_type": "markdown",
      "source": [
        "## Performanța modelului înaintea optimizării acestuia\n",
        "\n",
        "Acuratețea pe setul de test este scăzută pentru că ponderile modelului au fost inițializate aleatoriu și nu au fost optimizate deloc, astfel că doar clasifică imaginile aleatoriu."
      ]
    },
    {
      "metadata": {
        "id": "6ZOez_cNEeDi",
        "colab_type": "code",
        "colab": {
          "base_uri": "https://localhost:8080/",
          "height": 35
        },
        "outputId": "0f548d8f-26ee-441a-d3e7-809eab00cfa2"
      },
      "cell_type": "code",
      "source": [
        "print_test_accuracy()"
      ],
      "execution_count": 1026,
      "outputs": [
        {
          "output_type": "stream",
          "text": [
            "Accuracy on Test-Set: 9.9% (994 / 10000)\n"
          ],
          "name": "stdout"
        }
      ]
    },
    {
      "metadata": {
        "id": "TSF1NlBIEeDk",
        "colab_type": "text"
      },
      "cell_type": "markdown",
      "source": [
        "## Performanța după o iterație de optimizare\n",
        "\n",
        "Acuratețea nu se îmbunătățește semnificativ după o singură iterație de optimizare, deoarece rata de învățare a optimizatorului este foarte mică."
      ]
    },
    {
      "metadata": {
        "id": "3D-SxvxYEeDk",
        "colab_type": "code",
        "colab": {
          "base_uri": "https://localhost:8080/",
          "height": 52
        },
        "outputId": "5dd31d23-8891-4d49-ea27-990f566397e8"
      },
      "cell_type": "code",
      "source": [
        "optimize(num_iterations=1)"
      ],
      "execution_count": 1027,
      "outputs": [
        {
          "output_type": "stream",
          "text": [
            "Iter:      1, Training Accuracy:  21.9%\n",
            "Time: 0:00:00\n"
          ],
          "name": "stdout"
        }
      ]
    },
    {
      "metadata": {
        "scrolled": true,
        "id": "bPD2tWSmEeDn",
        "colab_type": "code",
        "colab": {
          "base_uri": "https://localhost:8080/",
          "height": 35
        },
        "outputId": "49c5ae8e-d240-4f4f-a64a-4aa16beb522b"
      },
      "cell_type": "code",
      "source": [
        "print_test_accuracy()"
      ],
      "execution_count": 1028,
      "outputs": [
        {
          "output_type": "stream",
          "text": [
            "Accuracy on Test-Set: 9.8% (980 / 10000)\n"
          ],
          "name": "stdout"
        }
      ]
    },
    {
      "metadata": {
        "id": "p0ONYIp5EeDq",
        "colab_type": "text"
      },
      "cell_type": "markdown",
      "source": [
        "## Performanța după 100 de iterații\n",
        "\n",
        "După 100 de iterații, acuratețea modelului se îmbunătățește semnificativ."
      ]
    },
    {
      "metadata": {
        "scrolled": true,
        "id": "a0EoYwq_EeDq",
        "colab_type": "code",
        "colab": {
          "base_uri": "https://localhost:8080/",
          "height": 35
        },
        "outputId": "8e132687-f7d0-4265-af71-e1d874342b32"
      },
      "cell_type": "code",
      "source": [
        "optimize(num_iterations=99) # We already performed 1 iteration above."
      ],
      "execution_count": 1029,
      "outputs": [
        {
          "output_type": "stream",
          "text": [
            "Time: 0:00:01\n"
          ],
          "name": "stdout"
        }
      ]
    },
    {
      "metadata": {
        "id": "IchJzvzHEeDs",
        "colab_type": "code",
        "colab": {
          "base_uri": "https://localhost:8080/",
          "height": 297
        },
        "outputId": "535de1a4-aa23-4240-894a-75d544cc6f15"
      },
      "cell_type": "code",
      "source": [
        "print_test_accuracy(show_example_errors=True)"
      ],
      "execution_count": 1030,
      "outputs": [
        {
          "output_type": "stream",
          "text": [
            "Accuracy on Test-Set: 84.2% (8419 / 10000)\n",
            "Example errors:\n"
          ],
          "name": "stdout"
        },
        {
          "output_type": "display_data",
          "data": {
            "image/png": "[encoded data removed]",
            "text/plain": [
              "<Figure size 432x288 with 9 Axes>"
            ]
          },
          "metadata": {
            "tags": []
          }
        }
      ]
    },
    {
      "metadata": {
        "id": "CrlmQn-TEeDu",
        "colab_type": "text"
      },
      "cell_type": "markdown",
      "source": [
        "## Performanța după 1000 de iterații\n",
        "\n",
        "După 1000 de iterații, modelul și-a îmbunătățit semnificativ acuratețea pe setul de test, depășind 90%."
      ]
    },
    {
      "metadata": {
        "scrolled": false,
        "id": "iixE021bEeDv",
        "colab_type": "code",
        "colab": {
          "base_uri": "https://localhost:8080/",
          "height": 190
        },
        "outputId": "b72e988c-7856-4e60-b4bc-71ef7a6c8d61"
      },
      "cell_type": "code",
      "source": [
        "optimize(num_iterations=900) # We performed 100 iterations above."
      ],
      "execution_count": 1031,
      "outputs": [
        {
          "output_type": "stream",
          "text": [
            "Iter:    101, Training Accuracy:  87.5%\n",
            "Iter:    201, Training Accuracy:  89.1%\n",
            "Iter:    301, Training Accuracy:  92.2%\n",
            "Iter:    401, Training Accuracy:  85.9%\n",
            "Iter:    501, Training Accuracy:  90.6%\n",
            "Iter:    601, Training Accuracy:  85.9%\n",
            "Iter:    701, Training Accuracy:  98.4%\n",
            "Iter:    801, Training Accuracy:  93.8%\n",
            "Iter:    901, Training Accuracy:  93.8%\n",
            "Time: 0:00:07\n"
          ],
          "name": "stdout"
        }
      ]
    },
    {
      "metadata": {
        "scrolled": true,
        "id": "HpfamDfOEeDy",
        "colab_type": "code",
        "colab": {
          "base_uri": "https://localhost:8080/",
          "height": 297
        },
        "outputId": "680dcb7a-bcc5-4f7d-ee1d-e68754f1ad68"
      },
      "cell_type": "code",
      "source": [
        "print_test_accuracy(show_example_errors=True)"
      ],
      "execution_count": 1032,
      "outputs": [
        {
          "output_type": "stream",
          "text": [
            "Accuracy on Test-Set: 95.3% (9534 / 10000)\n",
            "Example errors:\n"
          ],
          "name": "stdout"
        },
        {
          "output_type": "display_data",
          "data": {
            "image/png": "[encoded data removed]",
            "text/plain": [
              "<Figure size 432x288 with 9 Axes>"
            ]
          },
          "metadata": {
            "tags": []
          }
        }
      ]
    },
    {
      "metadata": {
        "id": "hKrlabx8EeD1",
        "colab_type": "text"
      },
      "cell_type": "markdown",
      "source": [
        "## Performanța după 10,000 de iterații\n",
        "\n",
        "După 10,000 de iterații, acuratețea modelului se apropie de 99%."
      ]
    },
    {
      "metadata": {
        "scrolled": true,
        "id": "kL7b1052EeD2",
        "colab_type": "code",
        "colab": {
          "base_uri": "https://localhost:8080/",
          "height": 1589
        },
        "outputId": "616ebd44-1b8e-4817-fad3-cda5d243c26e"
      },
      "cell_type": "code",
      "source": [
        "optimize(num_iterations=9000) # We performed 1000 iterations above."
      ],
      "execution_count": 1033,
      "outputs": [
        {
          "output_type": "stream",
          "text": [
            "Iter:   1001, Training Accuracy:  95.3%\n",
            "Iter:   1101, Training Accuracy:  90.6%\n",
            "Iter:   1201, Training Accuracy:  96.9%\n",
            "Iter:   1301, Training Accuracy:  98.4%\n",
            "Iter:   1401, Training Accuracy:  93.8%\n",
            "Iter:   1501, Training Accuracy:  96.9%\n",
            "Iter:   1601, Training Accuracy:  96.9%\n",
            "Iter:   1701, Training Accuracy:  96.9%\n",
            "Iter:   1801, Training Accuracy:  93.8%\n",
            "Iter:   1901, Training Accuracy:  96.9%\n",
            "Iter:   2001, Training Accuracy:  93.8%\n",
            "Iter:   2101, Training Accuracy:  98.4%\n",
            "Iter:   2201, Training Accuracy:  96.9%\n",
            "Iter:   2301, Training Accuracy: 100.0%\n",
            "Iter:   2401, Training Accuracy:  98.4%\n",
            "Iter:   2501, Training Accuracy: 100.0%\n",
            "Iter:   2601, Training Accuracy:  98.4%\n",
            "Iter:   2701, Training Accuracy:  98.4%\n",
            "Iter:   2801, Training Accuracy:  96.9%\n",
            "Iter:   2901, Training Accuracy:  98.4%\n",
            "Iter:   3001, Training Accuracy:  98.4%\n",
            "Iter:   3101, Training Accuracy:  98.4%\n",
            "Iter:   3201, Training Accuracy:  98.4%\n",
            "Iter:   3301, Training Accuracy: 100.0%\n",
            "Iter:   3401, Training Accuracy:  96.9%\n",
            "Iter:   3501, Training Accuracy: 100.0%\n",
            "Iter:   3601, Training Accuracy:  95.3%\n",
            "Iter:   3701, Training Accuracy: 100.0%\n",
            "Iter:   3801, Training Accuracy:  98.4%\n",
            "Iter:   3901, Training Accuracy:  96.9%\n",
            "Iter:   4001, Training Accuracy:  98.4%\n",
            "Iter:   4101, Training Accuracy: 100.0%\n",
            "Iter:   4201, Training Accuracy: 100.0%\n",
            "Iter:   4301, Training Accuracy: 100.0%\n",
            "Iter:   4401, Training Accuracy: 100.0%\n",
            "Iter:   4501, Training Accuracy:  98.4%\n",
            "Iter:   4601, Training Accuracy: 100.0%\n",
            "Iter:   4701, Training Accuracy: 100.0%\n",
            "Iter:   4801, Training Accuracy: 100.0%\n",
            "Iter:   4901, Training Accuracy:  98.4%\n",
            "Iter:   5001, Training Accuracy: 100.0%\n",
            "Iter:   5101, Training Accuracy:  98.4%\n",
            "Iter:   5201, Training Accuracy:  98.4%\n",
            "Iter:   5301, Training Accuracy:  98.4%\n",
            "Iter:   5401, Training Accuracy:  96.9%\n",
            "Iter:   5501, Training Accuracy:  98.4%\n",
            "Iter:   5601, Training Accuracy: 100.0%\n",
            "Iter:   5701, Training Accuracy: 100.0%\n",
            "Iter:   5801, Training Accuracy: 100.0%\n",
            "Iter:   5901, Training Accuracy:  98.4%\n",
            "Iter:   6001, Training Accuracy: 100.0%\n",
            "Iter:   6101, Training Accuracy: 100.0%\n",
            "Iter:   6201, Training Accuracy:  98.4%\n",
            "Iter:   6301, Training Accuracy: 100.0%\n",
            "Iter:   6401, Training Accuracy: 100.0%\n",
            "Iter:   6501, Training Accuracy: 100.0%\n",
            "Iter:   6601, Training Accuracy: 100.0%\n",
            "Iter:   6701, Training Accuracy: 100.0%\n",
            "Iter:   6801, Training Accuracy:  98.4%\n",
            "Iter:   6901, Training Accuracy:  96.9%\n",
            "Iter:   7001, Training Accuracy: 100.0%\n",
            "Iter:   7101, Training Accuracy:  98.4%\n",
            "Iter:   7201, Training Accuracy:  98.4%\n",
            "Iter:   7301, Training Accuracy: 100.0%\n",
            "Iter:   7401, Training Accuracy:  98.4%\n",
            "Iter:   7501, Training Accuracy: 100.0%\n",
            "Iter:   7601, Training Accuracy: 100.0%\n",
            "Iter:   7701, Training Accuracy:  98.4%\n",
            "Iter:   7801, Training Accuracy:  98.4%\n",
            "Iter:   7901, Training Accuracy: 100.0%\n",
            "Iter:   8001, Training Accuracy: 100.0%\n",
            "Iter:   8101, Training Accuracy: 100.0%\n",
            "Iter:   8201, Training Accuracy: 100.0%\n",
            "Iter:   8301, Training Accuracy: 100.0%\n",
            "Iter:   8401, Training Accuracy:  98.4%\n",
            "Iter:   8501, Training Accuracy: 100.0%\n",
            "Iter:   8601, Training Accuracy: 100.0%\n",
            "Iter:   8701, Training Accuracy: 100.0%\n",
            "Iter:   8801, Training Accuracy: 100.0%\n",
            "Iter:   8901, Training Accuracy: 100.0%\n",
            "Iter:   9001, Training Accuracy:  98.4%\n",
            "Iter:   9101, Training Accuracy: 100.0%\n",
            "Iter:   9201, Training Accuracy: 100.0%\n",
            "Iter:   9301, Training Accuracy: 100.0%\n",
            "Iter:   9401, Training Accuracy: 100.0%\n",
            "Iter:   9501, Training Accuracy: 100.0%\n",
            "Iter:   9601, Training Accuracy: 100.0%\n",
            "Iter:   9701, Training Accuracy: 100.0%\n",
            "Iter:   9801, Training Accuracy: 100.0%\n",
            "Iter:   9901, Training Accuracy: 100.0%\n",
            "Time: 0:01:13\n"
          ],
          "name": "stdout"
        }
      ]
    },
    {
      "metadata": {
        "scrolled": true,
        "id": "Q1paMs0OEeD5",
        "colab_type": "code",
        "colab": {
          "base_uri": "https://localhost:8080/",
          "height": 730
        },
        "outputId": "152c6673-fcba-4a0d-9056-96c21d2ba2e5"
      },
      "cell_type": "code",
      "source": [
        "print_test_accuracy(show_example_errors=True,\n",
        "                    show_confusion_matrix=True)"
      ],
      "execution_count": 1034,
      "outputs": [
        {
          "output_type": "stream",
          "text": [
            "Accuracy on Test-Set: 98.8% (9883 / 10000)\n",
            "Example errors:\n"
          ],
          "name": "stdout"
        },
        {
          "output_type": "display_data",
          "data": {
            "image/png": "[encoded data removed]",
            "text/plain": [
              "<Figure size 432x288 with 9 Axes>"
            ]
          },
          "metadata": {
            "tags": []
          }
        },
        {
          "output_type": "stream",
          "text": [
            "Confusion Matrix:\n",
            "[[ 969    0    2    1    0    1    3    0    4    0]\n",
            " [   0 1130    2    0    0    0    2    1    0    0]\n",
            " [   1    1 1024    1    1    0    0    2    2    0]\n",
            " [   0    0    2  995    0    6    0    1    2    4]\n",
            " [   0    0    1    0  973    0    3    0    0    5]\n",
            " [   1    0    0    5    0  883    2    0    1    0]\n",
            " [   3    2    0    1    3    4  944    0    1    0]\n",
            " [   0    3    6    1    1    0    0 1014    1    2]\n",
            " [   2    0    1    3    0    1    1    2  962    2]\n",
            " [   0    2    0    1    7    4    0    2    4  989]]\n"
          ],
          "name": "stdout"
        },
        {
          "output_type": "display_data",
          "data": {
            "image/png": "[encoded data removed]",
            "text/plain": [
              "<Figure size 288x288 with 2 Axes>"
            ]
          },
          "metadata": {
            "tags": []
          }
        }
      ]
    },
    {
      "metadata": {
        "id": "ItwiBmMuEeD8",
        "colab_type": "text"
      },
      "cell_type": "markdown",
      "source": [
        "## Vizualizarea ponderilor și a straturilor\n",
        "\n",
        "Pentru a înțelege de ce rețeaua neurală convoluțională poate recunoaște cifrele scrise de mână, vom vizualiza ponderile filtrelor convoluționale și imaginile rezultate."
      ]
    },
    {
      "metadata": {
        "id": "Rd7Z_wgdEeD9",
        "colab_type": "text"
      },
      "cell_type": "markdown",
      "source": [
        "### Funcție ajutătoare pentru afișarea ponderilor"
      ]
    },
    {
      "metadata": {
        "id": "xXcjo8x0EeD-",
        "colab_type": "code",
        "colab": {}
      },
      "cell_type": "code",
      "source": [
        "def plot_conv_weights(weights, input_channel=0):\n",
        "    # Obține valorile ponderiloe\n",
        "    w = session.run(weights)\n",
        "\n",
        "    # Obține valorile minimă și maximă.\n",
        "    w_min = np.min(w)\n",
        "    w_max = np.max(w)\n",
        "\n",
        "    # Numărul de filtre în stratul convoluțional.\n",
        "    num_filters = w.shape[3]\n",
        "\n",
        "    num_grids = math.ceil(math.sqrt(num_filters))\n",
        "    \n",
        "    fig, axes = plt.subplots(num_grids, num_grids)\n",
        "\n",
        "    # Afișează toate filtrele.\n",
        "    for i, ax in enumerate(axes.flat):\n",
        "        if i<num_filters:\n",
        "            img = w[:, :, input_channel, i]\n",
        "\n",
        "            ax.imshow(img, vmin=w_min, vmax=w_max,\n",
        "                      interpolation='nearest', cmap='seismic')\n",
        "        \n",
        "        ax.set_xticks([])\n",
        "        ax.set_yticks([])\n",
        "    \n",
        "    plt.show()"
      ],
      "execution_count": 0,
      "outputs": []
    },
    {
      "metadata": {
        "id": "xmVXNvbcEeD_",
        "colab_type": "text"
      },
      "cell_type": "markdown",
      "source": [
        "### Funcție ajutătoare pentru afișarea rezultatului convoluțiilor"
      ]
    },
    {
      "metadata": {
        "id": "gG0EKmEpEeEB",
        "colab_type": "code",
        "colab": {}
      },
      "cell_type": "code",
      "source": [
        "def plot_conv_layer(layer, image):\n",
        "    feed_dict = {x: [image]}\n",
        "\n",
        "    # Calculează rezultatul convoluțiilor pentru imaginea dată.\n",
        "    values = session.run(layer, feed_dict=feed_dict)\n",
        "\n",
        "    # Numărul de filtre.\n",
        "    num_filters = values.shape[3]\n",
        "\n",
        "    num_grids = math.ceil(math.sqrt(num_filters))\n",
        "    \n",
        "    fig, axes = plt.subplots(num_grids, num_grids)\n",
        "\n",
        "    for i, ax in enumerate(axes.flat):\n",
        "        if i<num_filters:\n",
        "            img = values[0, :, :, i]\n",
        "\n",
        "            ax.imshow(img, interpolation='nearest', cmap='binary')\n",
        "        \n",
        "        ax.set_xticks([])\n",
        "        ax.set_yticks([])\n",
        "    \n",
        "    plt.show()"
      ],
      "execution_count": 0,
      "outputs": []
    },
    {
      "metadata": {
        "id": "bBYq9p4XEeEE",
        "colab_type": "text"
      },
      "cell_type": "markdown",
      "source": [
        "### Imaginile de input"
      ]
    },
    {
      "metadata": {
        "id": "rCjPrihiEeEF",
        "colab_type": "text"
      },
      "cell_type": "markdown",
      "source": [
        "Funcție ajutătoare pentru afișarea unei imagini."
      ]
    },
    {
      "metadata": {
        "id": "AnAAod95EeEH",
        "colab_type": "code",
        "colab": {}
      },
      "cell_type": "code",
      "source": [
        "def plot_image(image):\n",
        "    plt.imshow(image.reshape(img_shape),\n",
        "               interpolation='nearest',\n",
        "               cmap='binary')\n",
        "\n",
        "    plt.show()"
      ],
      "execution_count": 0,
      "outputs": []
    },
    {
      "metadata": {
        "id": "xiDxq9_SEeEJ",
        "colab_type": "text"
      },
      "cell_type": "markdown",
      "source": [
        "Afișează o imagine din setul de test ce va fi folosită ca exemplu."
      ]
    },
    {
      "metadata": {
        "id": "DBS7HTMMEeEJ",
        "colab_type": "code",
        "colab": {
          "base_uri": "https://localhost:8080/",
          "height": 265
        },
        "outputId": "4bbd6545-d0cb-4330-9ee9-ff2d64a4b916"
      },
      "cell_type": "code",
      "source": [
        "image1 = x_test[0]\n",
        "plot_image(image1)"
      ],
      "execution_count": 67,
      "outputs": [
        {
          "output_type": "display_data",
          "data": {
            "image/png": "[encoded data removed]",
            "text/plain": [
              "<Figure size 432x288 with 1 Axes>"
            ]
          },
          "metadata": {
            "tags": []
          }
        }
      ]
    },
    {
      "metadata": {
        "id": "1p7kMXUWEeEM",
        "colab_type": "text"
      },
      "cell_type": "markdown",
      "source": [
        "Afișează o altă imagine din setul de test."
      ]
    },
    {
      "metadata": {
        "id": "_qVH94dyEeEN",
        "colab_type": "code",
        "colab": {
          "base_uri": "https://localhost:8080/",
          "height": 265
        },
        "outputId": "39ef4149-1597-4a49-9a49-945aa3146088"
      },
      "cell_type": "code",
      "source": [
        "image2 = x_test[13]\n",
        "plot_image(image2)"
      ],
      "execution_count": 68,
      "outputs": [
        {
          "output_type": "display_data",
          "data": {
            "image/png": "[encoded data removed]",
            "text/plain": [
              "<Figure size 432x288 with 1 Axes>"
            ]
          },
          "metadata": {
            "tags": []
          }
        }
      ]
    },
    {
      "metadata": {
        "id": "TUqAs1a-EeER",
        "colab_type": "text"
      },
      "cell_type": "markdown",
      "source": [
        "### Primul strat convoluțional"
      ]
    },
    {
      "metadata": {
        "id": "e3s1X-6lEeES",
        "colab_type": "text"
      },
      "cell_type": "markdown",
      "source": [
        "Afișează ponderile primului strat convoluțional.\n",
        "\n",
        "Rețineți că ponderile pozitive sunt cele roșii, iar ponderile negative sunt cele albastre."
      ]
    },
    {
      "metadata": {
        "scrolled": false,
        "id": "IjgWsG38EeES",
        "colab_type": "code",
        "colab": {
          "base_uri": "https://localhost:8080/",
          "height": 248
        },
        "outputId": "40ea1be4-fb4b-44bc-d0d3-e92fa496c983"
      },
      "cell_type": "code",
      "source": [
        "plot_conv_weights(weights=weights_conv1)"
      ],
      "execution_count": 366,
      "outputs": [
        {
          "output_type": "display_data",
          "data": {
            "image/png": "[encoded data removed]",
            "text/plain": [
              "<Figure size 432x288 with 16 Axes>"
            ]
          },
          "metadata": {
            "tags": []
          }
        }
      ]
    },
    {
      "metadata": {
        "id": "vZASKcpbEeEU",
        "colab_type": "text"
      },
      "cell_type": "markdown",
      "source": [
        "Aplicând fiecare filtru pe prima imagine de input, obținem următoarele rezultate, care sunt după aceea folosite ca input în cel de-al 2-lea strat convoluțional.\n",
        "\n",
        "Observați că inputul în cel de-al 2-lea strat convoluțional este micșorat la 14x14 pixeli, jumătate din rezoluția imaginii originale."
      ]
    },
    {
      "metadata": {
        "scrolled": true,
        "id": "1PmraN7hEeEV",
        "colab_type": "code",
        "colab": {
          "base_uri": "https://localhost:8080/",
          "height": 248
        },
        "outputId": "98ab00cc-8b43-4e6f-e2b2-2765c3b6c0d2"
      },
      "cell_type": "code",
      "source": [
        "plot_conv_layer(layer=layer_conv1, image=image1)"
      ],
      "execution_count": 70,
      "outputs": [
        {
          "output_type": "display_data",
          "data": {
            "image/png": "[encoded data removed]",
            "text/plain": [
              "<Figure size 432x288 with 16 Axes>"
            ]
          },
          "metadata": {
            "tags": []
          }
        }
      ]
    },
    {
      "metadata": {
        "id": "I0NZztrzEeEY",
        "colab_type": "text"
      },
      "cell_type": "markdown",
      "source": [
        "Imaginile de mai jos sunt rezultatele aplicării filtrelor pe cea de-a 2-a imagine."
      ]
    },
    {
      "metadata": {
        "scrolled": false,
        "id": "xd62MiVNEeEZ",
        "colab_type": "code",
        "colab": {
          "base_uri": "https://localhost:8080/",
          "height": 248
        },
        "outputId": "46e6f565-a4db-49aa-dd30-4c63e6f8059c"
      },
      "cell_type": "code",
      "source": [
        "plot_conv_layer(layer=layer_conv1, image=image2)"
      ],
      "execution_count": 210,
      "outputs": [
        {
          "output_type": "display_data",
          "data": {
            "image/png": "[encoded data removed]",
            "text/plain": [
              "<Figure size 432x288 with 16 Axes>"
            ]
          },
          "metadata": {
            "tags": []
          }
        }
      ]
    },
    {
      "metadata": {
        "id": "C56ac5quEeEb",
        "colab_type": "text"
      },
      "cell_type": "markdown",
      "source": [
        "Este dificil de observat din aceste imagini care ar putea fi rolul filtrelor convoluționale. Se pare că au creat doar câteva variații ale imaginii de input, ca și cum lumina se reflectă sub unghiuri diferite."
      ]
    },
    {
      "metadata": {
        "id": "myH-2tVDEeEc",
        "colab_type": "text"
      },
      "cell_type": "markdown",
      "source": [
        "### Cel de-al 2-lea strat convoluțional"
      ]
    },
    {
      "metadata": {
        "id": "GlZ2kYGvEeEc",
        "colab_type": "text"
      },
      "cell_type": "markdown",
      "source": [
        "Afișăm ponderile celui de-al 2-lea strat convoluțional.\n",
        "\n",
        "Sunt 16 canale în urma primului filtru convoluțional, ceea ce înseamnă că sunt 16 canale în inputul celui de-al 2-lea strat convoluțional. Acesta conține un set de filtre pentru fiecare canal din input. Începem prin afișarea poderilor pentru primul canal."
      ]
    },
    {
      "metadata": {
        "scrolled": false,
        "id": "uDpwhCSwEeEd",
        "colab_type": "code",
        "colab": {
          "base_uri": "https://localhost:8080/",
          "height": 248
        },
        "outputId": "78ca1747-ab25-481d-fae0-d073d991c8d9"
      },
      "cell_type": "code",
      "source": [
        "plot_conv_weights(weights=weights_conv2, input_channel=0)"
      ],
      "execution_count": 367,
      "outputs": [
        {
          "output_type": "display_data",
          "data": {
            "image/png": "[encoded data removed]",
            "text/plain": [
              "<Figure size 432x288 with 36 Axes>"
            ]
          },
          "metadata": {
            "tags": []
          }
        }
      ]
    },
    {
      "metadata": {
        "id": "pM8pu7yHEeEf",
        "colab_type": "text"
      },
      "cell_type": "markdown",
      "source": [
        "Afișăm ponderile și pentru cel de-al 2-lea canal din input."
      ]
    },
    {
      "metadata": {
        "id": "75BDGtpAEeEf",
        "colab_type": "code",
        "colab": {
          "base_uri": "https://localhost:8080/",
          "height": 248
        },
        "outputId": "18d121a0-951b-4109-fb0d-e60cae5da447"
      },
      "cell_type": "code",
      "source": [
        "plot_conv_weights(weights=weights_conv2, input_channel=1)"
      ],
      "execution_count": 368,
      "outputs": [
        {
          "output_type": "display_data",
          "data": {
            "image/png": "[encoded data removed]",
            "text/plain": [
              "<Figure size 432x288 with 36 Axes>"
            ]
          },
          "metadata": {
            "tags": []
          }
        }
      ]
    },
    {
      "metadata": {
        "id": "8EWWuGUPEeEh",
        "colab_type": "text"
      },
      "cell_type": "markdown",
      "source": [
        "Poate fi dificil de înțeles și de urmărit modul în care sunt aplicate aceste filtre datoriră dimensionalității ridicate.\n",
        "\n",
        "Aplicând aceste filtre imaginilor rezultate în urma primului strat convoluțional, obținem următoarele imagini.\n",
        "\n",
        "Observați că acestea sunt micșorate la 7x7 pixeli, jumătate din rezoluția imaginilor din primul strat convoluțional."
      ]
    },
    {
      "metadata": {
        "scrolled": false,
        "id": "Bsjq69hYEeEi",
        "colab_type": "code",
        "colab": {
          "base_uri": "https://localhost:8080/",
          "height": 248
        },
        "outputId": "1749fe0f-996e-4767-e54d-1d7f8802f6cf"
      },
      "cell_type": "code",
      "source": [
        "plot_conv_layer(layer=layer_conv2, image=image1)"
      ],
      "execution_count": 74,
      "outputs": [
        {
          "output_type": "display_data",
          "data": {
            "image/png": "[encoded data removed]",
            "text/plain": [
              "<Figure size 432x288 with 36 Axes>"
            ]
          },
          "metadata": {
            "tags": []
          }
        }
      ]
    },
    {
      "metadata": {
        "id": "GuDLd9sBEeEl",
        "colab_type": "text"
      },
      "cell_type": "markdown",
      "source": [
        "Acestea sunt rezultatele aplicării filtrelor pe cea de-a 2-a imagine."
      ]
    },
    {
      "metadata": {
        "scrolled": false,
        "id": "rlwTcYYCEeEm",
        "colab_type": "code",
        "colab": {
          "base_uri": "https://localhost:8080/",
          "height": 248
        },
        "outputId": "51867ed2-4c6c-4eb0-a8a7-4f1c6097e2d4"
      },
      "cell_type": "code",
      "source": [
        "plot_conv_layer(layer=layer_conv2, image=image2)"
      ],
      "execution_count": 75,
      "outputs": [
        {
          "output_type": "display_data",
          "data": {
            "image/png": "[encoded data removed]",
            "text/plain": [
              "<Figure size 432x288 with 36 Axes>"
            ]
          },
          "metadata": {
            "tags": []
          }
        }
      ]
    },
    {
      "metadata": {
        "id": "Rt6bD8qnEeEo",
        "colab_type": "text"
      },
      "cell_type": "markdown",
      "source": [
        "Din aceste imagini se pare că cel de-al 2-lea strat convoluțional ar putea detecta linii și modele în imaginile de input, care sunt mai puțin sensibile la variațiile locale ale imaginilor de input."
      ]
    },
    {
      "metadata": {
        "id": "HWxx2igfEeEp",
        "colab_type": "text"
      },
      "cell_type": "markdown",
      "source": [
        "### Închide sesiunea TensorFlow"
      ]
    },
    {
      "metadata": {
        "id": "3i5KKnnLEeEq",
        "colab_type": "text"
      },
      "cell_type": "markdown",
      "source": [
        "Închidem sesiunea TensorFlow pentru a elibera resursele."
      ]
    },
    {
      "metadata": {
        "id": "XbkHRpyBEeEq",
        "colab_type": "code",
        "colab": {}
      },
      "cell_type": "code",
      "source": [
        "session.close()"
      ],
      "execution_count": 0,
      "outputs": []
    },
    {
      "metadata": {
        "id": "WNTXifVrEeEs",
        "colab_type": "text"
      },
      "cell_type": "markdown",
      "source": [
        "## Concluzie\n",
        "\n",
        "Am văzut că o Rețea Neurală Convoluțională funcționează mult mai bine la recunoaștere cifrelor scrise de mână decât modelul liniar simplu din primul laborator. Rețeaua Convoluțională obține o acuratețe de clasificare de aproximativ 99%, sau chiar mai mult dacă se fac unele ajustări, comparativ cu doar 91% în cazul modelului liniar simplu.\n",
        "\n",
        "Cu toate acestea, Rețeaua Convoluțională este mult mai greu de implementat și nu este evident din analiza ponderilor de ce funcționează și de ce uneori eșuează."
      ]
    },
    {
      "metadata": {
        "id": "BDqYStyNEeEs",
        "colab_type": "text"
      },
      "cell_type": "markdown",
      "source": [
        "## Exerciții\n",
        "\n",
        "* Obțineți exact aceleași rezultate dacă rulați de mai multe ori, fără a schimba vreun parametru? Care sunt sursele care ar putea explica comportamentul aleatoriu?\n",
        "* Rulați încă 10,000 de iterații de optimizare. Sunt rezultatele mai bune?\n",
        "* Schimbați rate de învățare a optimizatorului.\n",
        "* Schimbați configurația straturilor, precum numărul de filtre convoluționale, dimensiunea acestor filtre, numărul de neuroni în stratul fully-connected.\n",
        "* Schimbați ordinea operațiilor ReLU și max-pooling în stratul convoluțional. Se calculează același lucru? Funcționează și pentru sigmoid și avg-pooling?\n",
        "* Adaugați încă unul sau mai multe straturi convoluționale și fully-connected. Se îmbunătățește performanța?\n",
        "* Care este cea mai mică configurație posibilă care încă obține rezultate bune?\n",
        "* Încercați să aplicați ReLU după ultimul strat fully-connected. Se schimbă performanța modelului? De ce?\n",
        "* Încercați să renunțați la pooling în straturile convoluționale. Se modifică acuratețea și timpul de antrenare?\n",
        "* Încercați să folosiți stride 2x2 în convoluție, renunțând la max-pooling. Care este diferența?\n",
        "* Rescrieți programul fără a vă uita prea mult la acest exemplu."
      ]
    },
    {
      "metadata": {
        "id": "CFd090wWVp35",
        "colab_type": "text"
      },
      "cell_type": "markdown",
      "source": [
        "---"
      ]
    },
    {
      "metadata": {
        "id": "e9pLRMcQoa_U",
        "colab_type": "text"
      },
      "cell_type": "markdown",
      "source": [
        "* Comportamentul aleatoriu este dat de alegerea unui batch random din setul de antrenare.\n",
        "* Dupa inca 10.000 iteratii acuratetea creste foarte putin, dar nu este garantata cresterea continua deoarece modelul invata din date pe care le-a mai vazut.\n",
        "* Cu un learning_rate mai mare(=1e-2 ),  optimizatorul nu reuseste sa ajunga la valoare minima a functiei de cost, prin urmare acuratetea scade. Daca learning_rate este 1e-6 atunci convergenta se observa dupa mai multe iteratii, daca setam learning_rate mai mic atunci nici nu se observa convergenta in doar 10.000 iteratii.\n"
      ]
    },
    {
      "metadata": {
        "id": "wllR6zuGooWV",
        "colab_type": "code",
        "colab": {}
      },
      "cell_type": "code",
      "source": [
        "filter_size1 = 7          \n",
        "num_filters1 = 8         \n",
        "\n",
        "filter_size2 = 7          \n",
        "num_filters2 = 16         \n",
        "\n",
        "fc_size = 64   \n",
        "#Acc = 98.6% Obs. se pare ca acum confunda des 9 cu celelalte cifre\n",
        "# rez similare cu filter_size 9 si cu dublarea nr de filtre si a stratul fully-connected"
      ],
      "execution_count": 0,
      "outputs": []
    },
    {
      "metadata": {
        "id": "c5mXfj0JMNEZ",
        "colab_type": "text"
      },
      "cell_type": "markdown",
      "source": [
        "* Cand schimbam ordinea ReLU si max-pooling obtinem rezultate asemanatoare. Cand folosim avg_pooling si sigmoid obtinem o acuratete mai mica de 94.6%, iar daca schimbam ordinea obtinem eroare.\n"
      ]
    },
    {
      "metadata": {
        "id": "6pR-5CVrT6zJ",
        "colab_type": "code",
        "colab": {}
      },
      "cell_type": "code",
      "source": [
        "# Cu urmatoarea config am obtinut o acuratete de 98.5% deci o performanta asemanatoare.\n",
        "\n",
        "# Primul strat convoluțional.\n",
        "filter_size1 = 5          \n",
        "num_filters1 = 16         \n",
        "# Al 2-lea strat convoluțional.\n",
        "filter_size2 = 5         \n",
        "num_filters2 = 36         \n",
        "#Al 3-lea strat conv.\n",
        "filter_size3 = 5         \n",
        "num_filters3 = 64  \n",
        "\n",
        "# Stratul fully-connected.\n",
        "fc_size = 128            \n",
        "# Stratul fully-connected extra.\n",
        "fc_size2 = 64"
      ],
      "execution_count": 0,
      "outputs": []
    },
    {
      "metadata": {
        "id": "rdPP47HKVOso",
        "colab_type": "text"
      },
      "cell_type": "markdown",
      "source": [
        "* Renuntant la al 2-lea hidden layer am obtinut o acuratete de 98.2% si intr un timp mai mic.\n",
        "* Aplicand ReLU pe ultimul strat fully-connected obs o scadere mare in acuratete la 79%,\n",
        "* Renuntand la max-pooling nu se obs scadere in acuratete dar creste timpul.\n",
        "\n",
        "\n"
      ]
    }
  ]
}